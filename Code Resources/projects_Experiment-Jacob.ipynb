{
 "cells": [
  {
   "cell_type": "markdown",
   "metadata": {},
   "source": [
    "# Exploring Projec1 ideas"
   ]
  },
  {
   "cell_type": "code",
   "execution_count": null,
   "metadata": {},
   "outputs": [],
   "source": [
    "# Dependencies\n",
    "import pandas as pd\n",
    "import numpy as np\n",
    "import requests\n",
    "import json\n",
    "from pprint import pprint\n",
    "import matplotlib.pyplot as plt\n",
    "import holoviews as hv\n",
    "from holoviews import opts\n",
    "hv.extension('bokeh')\n",
    "import scipy.stats as st\n",
    "from scipy.stats import linregress\n",
    "\n",
    "# Import API key\n",
    "from api_keys import geoapify_key"
   ]
  },
  {
   "cell_type": "code",
   "execution_count": null,
   "metadata": {},
   "outputs": [],
   "source": [
    "#linear regression function\n",
    "def get_regress(x,y, title, xlabel, ylabel):\n",
    "   plt.scatter(x=x,y=y)\n",
    "   (slope, intercept, rvalue, pvalue, stderr) = linregress(x, y)\n",
    "   regress_values = x * slope + intercept\n",
    "   line_eq = f'y = {round(slope,2)}x + {round(intercept,2)}'\n",
    "   plt.plot(x,regress_values, color='red')\n",
    "   plt.title(title)\n",
    "   plt.xlabel(xlabel)\n",
    "   plt.ylabel(ylabel)\n",
    "   if sum(x) > 0:\n",
    "      plt.annotate(line_eq,(min(x),min(y)),fontsize=15,color='red')\n",
    "   else: \n",
    "      plt.annotate(line_eq,(min(x),min(y)),fontsize=15,color='red')\n",
    "   print(f'The r-squared is: {rvalue**2}')\n",
    "   print(f'The r-value is {rvalue}')\n",
    "   print(f'The p-value is {pvalue}')\n",
    "   print(f'The stderr is {stderr}')\n",
    "   \n",
    "   plt.show()\n",
    "\n",
    "   "
   ]
  },
  {
   "cell_type": "markdown",
   "metadata": {},
   "source": [
    "## DataFrame Preparation"
   ]
  },
  {
   "cell_type": "code",
   "execution_count": null,
   "metadata": {},
   "outputs": [],
   "source": [
    "# Import cities file as DataFrame\n",
    "mp_df =pd.read_csv(\"../Resources/chicago_public_health.csv\")\n",
    "\n",
    "raw_df = mp_df.copy()\n",
    "mp_df.head()\n"
   ]
  },
  {
   "cell_type": "code",
   "execution_count": null,
   "metadata": {
    "scrolled": true
   },
   "outputs": [],
   "source": [
    "# List of Regions with corresponding Community areas for data manipulation\n",
    "RA=[{\"Far North Side\":[\"Rogers Park\",\"West Ridge\",\"Uptown\",\"Lincoln Square\",\"O'Hare\",\"Edgewater\",\"North Park\",\"Albany Park\",\"Edison Park\",\"Norwood Park\",\"Jefferson Park\",\"Forest Glen\"]},\n",
    "{\"Northwest Side\":[\"North Center\",\"Lake View\",\"Lincoln Park\",\"Avondale\",\"Logan Square\",\"Hermosa\",\"Portage Park\",\"Irving Park\",\"Dunning\",\"Montclaire\",\"Belmont Cragin\"]},\n",
    "{\"North Side\":[\"Near North Side\",\"West Town\",\"Humboldt Park\",\"Austin\"]},\n",
    "{\"Central\":[\"Loop\",\"Near South Side\",\"Near West Side\"]},\n",
    "{\"West Side\":[\"East Garfield Park\",\"West Garfield Park\",\"North Lawndale\",\"South Lawndale\",\"Lower West Side\"]},\n",
    "{\"South Side\":[\"Greater Grand Crossing\",\"Armour Square\",\"Douglas\",\"Oakland\",\"Fuller Park\",\"Grand Boulevard\",\"Kenwood\",\"Washington Park\",\"Hyde Park\",\"Woodlawn\",\"South Shore\"]},\n",
    "{\"Southwest Side\":[\"Bridgeport\",\"New City\",\"West Elsdon\",\"Gage Park\",\"Brighton Park\",\"McKinley Park\",\"Archer Heights\",\"West Lawn\",\"Chicago Lawn\",\"Garfield Ridge\",\"Clearing\",\"West Englewood\",\"Englewood\"]},\n",
    "{\"Far Southwest Side\":[\"Washington Heights\",\"Auburn Gresham\",\"Ashburn\",\"Beverly\",\"Mount Greenwood\",\"Morgan Park\"]},\n",
    "{\"Far Southeast Side\":[\"Chatham\",\"Avalon Park\",\"South Chicago\",\"Burnside\",\"Calumet Heights\",\"Roseland\",\"Pullman\",\"South Deering\",\"East Side\",\"West Pullman\",\"Riverdale\",\"Hegewisch\"]}]\n",
    "\n",
    "#Add a new column for Region\n",
    "raw_df[\"Region\"]=\"\"\n",
    "\n",
    "#Populate the new column - Region\n",
    "\n",
    "for i in range(mp_df.shape[0]):\n",
    "    cma=mp_df.loc[i,\"Community Area Name\"]\n",
    "    for r in range(len(RA)):\n",
    "        k=list(RA[r])[0]\n",
    "        if cma in RA[r][k]:\n",
    "            mp_df.loc[i,\"Region\"]=k\n",
    "            #print(cma,k)\n",
    "            \n",
    "      \n",
    "        \n",
    "\n",
    "mp_df.head()"
   ]
  },
  {
   "cell_type": "code",
   "execution_count": null,
   "metadata": {},
   "outputs": [],
   "source": [
    "column_to_move = mp_df.pop('Region')\n",
    "mp_df.insert(2, 'Region', column_to_move)\n"
   ]
  },
  {
   "cell_type": "code",
   "execution_count": null,
   "metadata": {},
   "outputs": [],
   "source": [
    "pd.set_option('display.max_columns', None)\n",
    "mp_df.head()\n"
   ]
  },
  {
   "cell_type": "code",
   "execution_count": null,
   "metadata": {},
   "outputs": [],
   "source": [
    "lead_poison_df = raw_df.loc[(~raw_df['Childhood Lead Poisoning'].isna()) & (~raw_df['Below Poverty Level'].isna())]\n",
    "\n",
    "lead_poison_df = lead_poison_df.sort_values(by='Community Area Name').reset_index()\n",
    "\n",
    "\n",
    "\n"
   ]
  },
  {
   "cell_type": "code",
   "execution_count": null,
   "metadata": {},
   "outputs": [],
   "source": [
    "#Do higher rates of poverty/lower average income result in higher prevalence of childhood lead poisoning?\n",
    "get_regress(lead_poison_df['Below Poverty Level'],lead_poison_df['Childhood Lead Poisoning'],'Test','Below Poverty Level','Lead Poisoning Rates')\n"
   ]
  },
  {
   "cell_type": "code",
   "execution_count": null,
   "metadata": {},
   "outputs": [],
   "source": [
    "#Do certain socioeconomic brackets have a higher risk of certain health markers? Cancer/Cardiovascular Disease/Diabetes\n",
    "disease_df = raw_df.loc[(~raw_df['Below Poverty Level'].isna()) & (~raw_df['Diabetes-related'].isna())]\n",
    "\n",
    "\n",
    "\n",
    "get_regress(disease_df['Below Poverty Level'], disease_df['Diabetes-related'],'test','Poverty','Diabetes')"
   ]
  },
  {
   "cell_type": "code",
   "execution_count": null,
   "metadata": {},
   "outputs": [],
   "source": [
    "#Do certain socioeconomic brackets have a higher risk of certain health markers? Cancer/Cardiovascular Disease/Diabetes\n",
    "disease_df = raw_df.loc[(~raw_df['Per Capita Income'].isna()) & (~raw_df['Diabetes-related'].isna())]\n",
    "\n",
    "\n",
    "\n",
    "get_regress(disease_df['Per Capita Income'], disease_df['Diabetes-related'],'test','Per Capita','Diabetes')"
   ]
  },
  {
   "cell_type": "code",
   "execution_count": null,
   "metadata": {},
   "outputs": [],
   "source": [
    "mp_df.groupby(\"Region\")[[\"Tuberculosis\",\"Crowded Housing\"]].mean()"
   ]
  },
  {
   "cell_type": "code",
   "execution_count": null,
   "metadata": {},
   "outputs": [],
   "source": [
    "Region_df= mp_df.groupby(\"Region\")[[\"Teen Birth Rate\",\"No High School Diploma\"]].mean()\n",
    "Region_TPE= Region_df.reset_index()\n",
    "Region_TPE.sort_values(by=\"No High School Diploma\", inplace= True, ascending=False)\n",
    "Region_TPE.reset_index().drop(\"index\",axis=1)"
   ]
  },
  {
   "cell_type": "code",
   "execution_count": null,
   "metadata": {},
   "outputs": [],
   "source": [
    "# Build scatter plot for Teen Birth Rate  vs Lack of High school diploma\n",
    "x_values = Region_df['Teen Birth Rate']\n",
    "y_values = Region_df['No High School Diploma']\n",
    "plt.scatter(x_values,y_values, edgecolor=\"black\")\n",
    "\n",
    "\n",
    "# Incorporate the other graph properties\n",
    "plt.xlabel('Avg. % Teen Birth Rate per 1,000 women aged 15-19')\n",
    "plt.ylabel('Avg. %_aged_25_without_high_school_diploma')\n",
    "plt.title(f\"Teen Birth Rate  vs No High School Diploma\")\n",
    "plt.grid()\n",
    "\n",
    "\n",
    "# Save the figure\n",
    "#plt.savefig(\"output_data/Fig1.png\")\n",
    "\n",
    "# Show plot\n",
    "plt.show()"
   ]
  },
  {
   "cell_type": "code",
   "execution_count": null,
   "metadata": {},
   "outputs": [],
   "source": [
    "\n",
    "Region_TPE.plot(kind=\"bar\",x=\"Region\",y=[\"Teen Birth Rate\",\"No High School Diploma\"])\n",
    "plt.show()\n"
   ]
  },
  {
   "cell_type": "code",
   "execution_count": null,
   "metadata": {},
   "outputs": [],
   "source": [
    "#mp_df.head()\n",
    "WestSide_TPE= mp_df.loc[mp_df[\"Region\"]==\"West Side\"][[\"Community Area Name\",\"Teen Birth Rate\",\"No High School Diploma\"]]\n",
    "WestSide_TPE.reset_index().drop(\"index\",axis=1)\n",
    "WestSide_TPE.plot(kind=\"bar\",x=\"Community Area Name\",y=[\"Teen Birth Rate\",\"No High School Diploma\"])"
   ]
  },
  {
   "cell_type": "code",
   "execution_count": null,
   "metadata": {},
   "outputs": [],
   "source": []
  }
 ],
 "metadata": {
  "anaconda-cloud": {},
  "kernelspec": {
   "display_name": "Python 3 (ipykernel)",
   "language": "python",
   "name": "python3"
  },
  "language_info": {
   "codemirror_mode": {
    "name": "ipython",
    "version": 3
   },
   "file_extension": ".py",
   "mimetype": "text/x-python",
   "name": "python",
   "nbconvert_exporter": "python",
   "pygments_lexer": "ipython3",
   "version": "3.10.14"
  }
 },
 "nbformat": 4,
 "nbformat_minor": 4
}
